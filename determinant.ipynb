{
 "cells": [
  {
   "cell_type": "code",
   "execution_count": 2,
   "metadata": {},
   "outputs": [
    {
     "name": "stderr",
     "output_type": "stream",
     "text": [
      "\u001b[1m\u001b[34mINFO: Cloning cache of BaseTestNext from git://github.com/JuliaCI/BaseTestNext.jl.git\n",
      "\u001b[0m\u001b[1m\u001b[34mINFO: Cloning cache of MacroTools from git://github.com/MikeInnes/MacroTools.jl.git\n",
      "\u001b[0m\u001b[1m\u001b[34mINFO: Cloning cache of PyCall from git://github.com/JuliaPy/PyCall.jl.git\n",
      "\u001b[0m\u001b[1m\u001b[34mINFO: Cloning cache of RecipesBase from git://github.com/JuliaPlots/RecipesBase.jl.git\n",
      "\u001b[0m\u001b[1m\u001b[34mINFO: Cloning cache of SymPy from git://github.com/JuliaPy/SymPy.jl.git\n",
      "\u001b[0m\u001b[1m\u001b[34mINFO: Installing BaseTestNext v0.2.2\n",
      "\u001b[0m\u001b[1m\u001b[34mINFO: Installing MacroTools v0.3.7\n",
      "\u001b[0m\u001b[1m\u001b[34mINFO: Installing PyCall v1.11.1\n",
      "\u001b[0m\u001b[1m\u001b[34mINFO: Installing RecipesBase v0.0.6\n",
      "\u001b[0m\u001b[1m\u001b[34mINFO: Installing SymPy v0.5.4\n",
      "\u001b[0m\u001b[1m\u001b[34mINFO: Building Conda\n",
      "\u001b[0m\u001b[1m\u001b[34mINFO: Building PyCall\n",
      "\u001b[0m\u001b[1m\u001b[34mINFO: PyCall is using python (Python 2.7.15) at /home/greek/.julia/v0.4/Conda/deps/usr/bin/python, libpython = /home/greek/.julia/v0.4/Conda/deps/usr/lib/libpython2.7\n",
      "\u001b[0m\u001b[1m\u001b[34mINFO: /home/greek/.julia/v0.4/PyCall/deps/deps.jl has been updated\n",
      "\u001b[0m\u001b[1m\u001b[34mINFO: /home/greek/.julia/v0.4/PyCall/deps/PYTHON has been updated\n",
      "\u001b[0m\u001b[1m\u001b[34mINFO: Package database updated\n",
      "\u001b[0m\u001b[1m\u001b[34mINFO: METADATA is out-of-date — you may not have the latest version of SymPy\n",
      "\u001b[0m\u001b[1m\u001b[34mINFO: Use `Pkg.update()` to get the latest versions of your packages\n",
      "\u001b[0m"
     ]
    }
   ],
   "source": [
    "Pkg.add(\"SymPy\")"
   ]
  },
  {
   "cell_type": "code",
   "execution_count": 3,
   "metadata": {},
   "outputs": [
    {
     "name": "stderr",
     "output_type": "stream",
     "text": [
      "\u001b[1m\u001b[34mINFO: Updating METADATA...\n",
      "\u001b[0m\u001b[1m\u001b[34mINFO: Computing changes...\n",
      "\u001b[0m\u001b[1m\u001b[34mINFO: No packages to install, update or remove\n",
      "\u001b[0m"
     ]
    }
   ],
   "source": [
    "Pkg.update()"
   ]
  },
  {
   "cell_type": "code",
   "execution_count": 4,
   "metadata": {},
   "outputs": [
    {
     "name": "stderr",
     "output_type": "stream",
     "text": [
      "\u001b[1m\u001b[34mINFO: Precompiling module SymPy...\n",
      "\u001b[0m\u001b[1m\u001b[34mINFO: Installing sympy via Anaconda's /home/greek/.julia/v0.4/Conda/deps/usr/bin/conda...\n",
      "\u001b[0m"
     ]
    },
    {
     "name": "stdout",
     "output_type": "stream",
     "text": [
      "Solving environment: ...working... done\n"
     ]
    },
    {
     "name": "stderr",
     "output_type": "stream",
     "text": [
      "mpmath-1.0.0         | 931 KB    | ########## | 100% \n",
      "mpfr-4.0.1           | 575 KB    | ########## | 100% \n",
      "fastcache-1.0.2      | 30 KB     | ########## | 100% \n",
      "mpc-1.1.0            | 94 KB     | ########## | 100% \n",
      "gmpy2-2.0.8          | 168 KB    | ########## | 100% \n",
      "sympy-1.2            | 9.0 MB    | #########9 | 100% "
     ]
    },
    {
     "name": "stdout",
     "output_type": "stream",
     "text": [
      "\n",
      "## Package Plan ##\n",
      "\n",
      "  environment location: /home/greek/.julia/v0.4/Conda/deps/usr\n",
      "\n",
      "  added / updated specs: \n",
      "    - sympy\n",
      "\n",
      "\n",
      "The following packages will be downloaded:\n",
      "\n",
      "    package                    |            build\n",
      "    ---------------------------|-----------------\n",
      "    mpmath-1.0.0               |           py27_2         931 KB\n",
      "    mpfr-4.0.1                 |       hdf1c602_3         575 KB\n",
      "    fastcache-1.0.2            |   py27h14c3975_2          30 KB\n",
      "    mpc-1.1.0                  |       h10f8cd9_1          94 KB\n",
      "    gmpy2-2.0.8                |   py27h10f8cd9_2         168 KB\n",
      "    sympy-1.2                  |           py27_0         9.0 MB\n",
      "    ------------------------------------------------------------\n",
      "                                           Total:        10.8 MB\n",
      "\n",
      "The following NEW packages will be INSTALLED:\n",
      "\n",
      "    fastcache: 1.0.2-py27h14c3975_2\n",
      "    gmpy2:     2.0.8-py27h10f8cd9_2\n",
      "    mpc:       1.1.0-h10f8cd9_1    \n",
      "    mpfr:      4.0.1-hdf1c602_3    \n",
      "    mpmath:    1.0.0-py27_2        \n",
      "    sympy:     1.2-py27_0          \n",
      "\n",
      "\n",
      "Downloading and Extracting Packages\n",
      "Preparing transaction: ...working... "
     ]
    },
    {
     "name": "stderr",
     "output_type": "stream",
     "text": [
      "\r",
      "sympy-1.2            | 9.0 MB    | ########## | 100% \n"
     ]
    },
    {
     "name": "stdout",
     "output_type": "stream",
     "text": [
      "done\n",
      "Verifying transaction: ...working... done\n",
      "Executing transaction: ...working... done\n"
     ]
    }
   ],
   "source": [
    "using SymPy"
   ]
  },
  {
   "cell_type": "code",
   "execution_count": 5,
   "metadata": {},
   "outputs": [
    {
     "data": {
      "text/plain": [
       "A (generic function with 1 method)"
      ]
     },
     "execution_count": 5,
     "metadata": {},
     "output_type": "execute_result"
    }
   ],
   "source": [
    "A(n) = [ Sym(\"a$i$j\") for i in 1:n, j in 1:n]"
   ]
  },
  {
   "cell_type": "code",
   "execution_count": 6,
   "metadata": {},
   "outputs": [
    {
     "data": {
      "text/plain": [
       "2x2 Array{Any,2}:\n",
       " a11  a12\n",
       " a21  a22"
      ]
     },
     "execution_count": 6,
     "metadata": {},
     "output_type": "execute_result"
    }
   ],
   "source": [
    "A(2)"
   ]
  },
  {
   "cell_type": "code",
   "execution_count": 7,
   "metadata": {},
   "outputs": [
    {
     "data": {
      "text/plain": [
       "3x3 Array{Any,2}:\n",
       " a11  a12  a13\n",
       " a21  a22  a23\n",
       " a31  a32  a33"
      ]
     },
     "execution_count": 7,
     "metadata": {},
     "output_type": "execute_result"
    }
   ],
   "source": [
    "A(3)"
   ]
  },
  {
   "cell_type": "code",
   "execution_count": 8,
   "metadata": {},
   "outputs": [
    {
     "ename": "LoadError",
     "evalue": "MethodError: `zero` has no method matching zero(::Type{Any})",
     "output_type": "error",
     "traceback": [
      "MethodError: `zero` has no method matching zero(::Type{Any})",
      "",
      " in lufact at ./linalg/lu.jl:79"
     ]
    }
   ],
   "source": [
    "det(A(2))"
   ]
  },
  {
   "cell_type": "code",
   "execution_count": 9,
   "metadata": {},
   "outputs": [
    {
     "data": {
      "text/plain": [
       "2x2 Array{Int64,2}:\n",
       " 1  3\n",
       " 2  4"
      ]
     },
     "execution_count": 9,
     "metadata": {},
     "output_type": "execute_result"
    }
   ],
   "source": [
    "a = [1 3\n",
    "     2 4]\n",
    "a"
   ]
  },
  {
   "cell_type": "code",
   "execution_count": 10,
   "metadata": {},
   "outputs": [
    {
     "data": {
      "text/plain": [
       "-2.0"
      ]
     },
     "execution_count": 10,
     "metadata": {},
     "output_type": "execute_result"
    }
   ],
   "source": [
    "det(a)"
   ]
  },
  {
   "cell_type": "code",
   "execution_count": 11,
   "metadata": {},
   "outputs": [
    {
     "data": {
      "text/plain": [
       "2x2 Array{Int64,2}:\n",
       " 1  3\n",
       " 2  4"
      ]
     },
     "execution_count": 11,
     "metadata": {},
     "output_type": "execute_result"
    }
   ],
   "source": [
    "b = [1 3; 2 4]"
   ]
  },
  {
   "cell_type": "code",
   "execution_count": 12,
   "metadata": {},
   "outputs": [
    {
     "ename": "LoadError",
     "evalue": "MethodError: `getindex` has no method matching getindex(::Function, ::Colon, ::Int64)",
     "output_type": "error",
     "traceback": [
      "MethodError: `getindex` has no method matching getindex(::Function, ::Colon, ::Int64)",
      ""
     ]
    }
   ],
   "source": [
    "A[:, 1]"
   ]
  },
  {
   "cell_type": "code",
   "execution_count": 13,
   "metadata": {},
   "outputs": [
    {
     "data": {
      "text/plain": [
       "2-element Array{Any,1}:\n",
       " a11\n",
       " a21"
      ]
     },
     "execution_count": 13,
     "metadata": {},
     "output_type": "execute_result"
    }
   ],
   "source": [
    "A(2)[:, 1]"
   ]
  },
  {
   "cell_type": "code",
   "execution_count": 14,
   "metadata": {},
   "outputs": [
    {
     "data": {
      "text/plain": [
       "3x3 Array{Float64,2}:\n",
       " 0.0199626  0.320843   0.11461\n",
       " 0.330681   0.60768    0.89497\n",
       " 0.403389   0.0243012  0.48202"
      ]
     },
     "execution_count": 14,
     "metadata": {},
     "output_type": "execute_result"
    }
   ],
   "source": [
    "a = rand(3, 3)"
   ]
  },
  {
   "cell_type": "code",
   "execution_count": 15,
   "metadata": {},
   "outputs": [
    {
     "data": {
      "text/plain": [
       "0.04293006801740736"
      ]
     },
     "execution_count": 15,
     "metadata": {},
     "output_type": "execute_result"
    }
   ],
   "source": [
    "det(a)"
   ]
  },
  {
   "cell_type": "code",
   "execution_count": null,
   "metadata": {},
   "outputs": [],
   "source": []
  }
 ],
 "metadata": {
  "kernelspec": {
   "display_name": "Julia 0.4.5",
   "language": "julia",
   "name": "julia-0.4"
  },
  "language_info": {
   "file_extension": ".jl",
   "mimetype": "application/julia",
   "name": "julia",
   "version": "0.4.5"
  }
 },
 "nbformat": 4,
 "nbformat_minor": 2
}
