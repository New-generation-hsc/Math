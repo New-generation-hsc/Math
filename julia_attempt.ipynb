{
 "cells": [
  {
   "cell_type": "code",
   "execution_count": 1,
   "metadata": {},
   "outputs": [
    {
     "data": {
      "text/plain": [
       "3x3 Array{Int64,2}:\n",
       " 1   3   1\n",
       " 1   1  -1\n",
       " 3  11   6"
      ]
     },
     "execution_count": 1,
     "metadata": {},
     "output_type": "execute_result"
    }
   ],
   "source": [
    "A = [1 3 1\n",
    "     1 1 -1\n",
    "     3 11 6]"
   ]
  },
  {
   "cell_type": "code",
   "execution_count": 2,
   "metadata": {},
   "outputs": [
    {
     "data": {
      "text/plain": [
       "3-element Array{Int64,1}:\n",
       "  9\n",
       "  1\n",
       " 35"
      ]
     },
     "execution_count": 2,
     "metadata": {},
     "output_type": "execute_result"
    }
   ],
   "source": [
    "b = [9, 1, 35]"
   ]
  },
  {
   "cell_type": "code",
   "execution_count": 3,
   "metadata": {},
   "outputs": [
    {
     "data": {
      "text/plain": [
       "1x3 Array{Int64,2}:\n",
       " 1  3  1"
      ]
     },
     "execution_count": 3,
     "metadata": {},
     "output_type": "execute_result"
    }
   ],
   "source": [
    "u = [1 3 1]"
   ]
  },
  {
   "cell_type": "code",
   "execution_count": 4,
   "metadata": {},
   "outputs": [
    {
     "ename": "LoadError",
     "evalue": "ArgumentError: argument count does not match specified shape (expected 6, got 5)",
     "output_type": "error",
     "traceback": [
      "ArgumentError: argument count does not match specified shape (expected 6, got 5)",
      "",
      " in hvcat at ./abstractarray.jl:962"
     ]
    }
   ],
   "source": [
    "w = [1 3 1\n",
    "     2 2]"
   ]
  },
  {
   "cell_type": "code",
   "execution_count": 5,
   "metadata": {},
   "outputs": [
    {
     "data": {
      "text/plain": [
       "3-element Array{Float64,1}:\n",
       " -3.0\n",
       "  4.0\n",
       "  0.0"
      ]
     },
     "execution_count": 5,
     "metadata": {},
     "output_type": "execute_result"
    }
   ],
   "source": [
    "x = A \\ b"
   ]
  },
  {
   "cell_type": "code",
   "execution_count": 6,
   "metadata": {},
   "outputs": [
    {
     "data": {
      "text/plain": [
       "3-element Array{Float64,1}:\n",
       " -3.0\n",
       "  4.0\n",
       "  0.0"
      ]
     },
     "execution_count": 6,
     "metadata": {},
     "output_type": "execute_result"
    }
   ],
   "source": [
    "inv(A) * b"
   ]
  },
  {
   "cell_type": "code",
   "execution_count": 8,
   "metadata": {},
   "outputs": [
    {
     "data": {
      "text/plain": [
       "1000x1000 Array{Float64,2}:\n",
       " 0.650203   0.918708   0.535257   …  0.322257    0.88833     0.405501 \n",
       " 0.745508   0.433434   0.242365      0.142314    0.947409    0.931206 \n",
       " 0.489304   0.572589   0.921519      0.743549    0.110306    0.844613 \n",
       " 0.980179   0.976032   0.695687      0.965493    0.250466    0.294633 \n",
       " 0.806675   0.602603   0.548625      0.232658    0.911293    0.308162 \n",
       " 0.669617   0.0259184  0.228325   …  0.775686    0.00803584  0.84175  \n",
       " 0.401271   0.621124   0.603326      0.778454    0.998753    0.45162  \n",
       " 0.75551    0.769352   0.19659       0.570815    0.643589    0.616627 \n",
       " 0.0365966  0.60029    0.495506      0.00894819  0.220696    0.196156 \n",
       " 0.475625   0.574513   0.351379      0.634855    0.241485    0.734618 \n",
       " 0.291128   0.323625   0.557194   …  0.947427    0.30233     0.987186 \n",
       " 0.748085   0.924671   0.0414357     0.428517    0.787805    0.699374 \n",
       " 0.718045   0.729271   0.806293      0.996918    0.613808    0.552342 \n",
       " ⋮                                ⋱                                   \n",
       " 0.640478   0.821531   0.681643      0.213292    0.889838    0.1695   \n",
       " 0.230685   0.276342   0.901383      0.523766    0.854848    0.485321 \n",
       " 0.55796    0.481941   0.726024   …  0.922514    0.0236691   0.446391 \n",
       " 0.350034   0.419959   0.594914      0.769663    0.253609    0.582228 \n",
       " 0.532297   0.83626    0.0517711     0.0631199   0.868525    0.960111 \n",
       " 0.926364   0.521938   0.597867      0.969251    0.408329    0.299472 \n",
       " 0.57624    0.278847   0.781587      0.825469    0.332737    0.860501 \n",
       " 0.983698   0.924315   0.740089   …  0.883377    0.657873    0.637101 \n",
       " 0.330397   0.515192   0.543391      0.763924    0.46299     0.43455  \n",
       " 0.909507   0.642828   0.78219       0.210118    0.0290168   0.0858815\n",
       " 0.673458   0.0617429  0.0507857     0.657917    0.374175    0.874484 \n",
       " 0.776328   0.337138   0.228895      0.979086    0.635613    0.304854 "
      ]
     },
     "execution_count": 8,
     "metadata": {},
     "output_type": "execute_result"
    }
   ],
   "source": [
    "Ahuge = rand(1000, 1000)"
   ]
  },
  {
   "cell_type": "code",
   "execution_count": 9,
   "metadata": {},
   "outputs": [
    {
     "data": {
      "text/plain": [
       "1000-element Array{Float64,1}:\n",
       " 0.297433  \n",
       " 0.590508  \n",
       " 0.262721  \n",
       " 0.40712   \n",
       " 0.499     \n",
       " 0.57892   \n",
       " 0.394064  \n",
       " 0.230633  \n",
       " 0.537275  \n",
       " 0.614572  \n",
       " 0.672766  \n",
       " 0.0702181 \n",
       " 0.071795  \n",
       " ⋮         \n",
       " 0.462981  \n",
       " 0.0770949 \n",
       " 0.310644  \n",
       " 0.2885    \n",
       " 0.991438  \n",
       " 0.342795  \n",
       " 0.88304   \n",
       " 0.00676021\n",
       " 0.180304  \n",
       " 0.381083  \n",
       " 0.0372658 \n",
       " 0.864937  "
      ]
     },
     "execution_count": 9,
     "metadata": {},
     "output_type": "execute_result"
    }
   ],
   "source": [
    "bhuge = rand(1000)"
   ]
  },
  {
   "cell_type": "code",
   "execution_count": 10,
   "metadata": {},
   "outputs": [
    {
     "data": {
      "text/plain": [
       "1000-element Array{Float64,1}:\n",
       " -0.37032    \n",
       "  0.413253   \n",
       " -2.79021    \n",
       "  3.15487    \n",
       "  3.20959    \n",
       "  1.97085    \n",
       " -0.320585   \n",
       "  0.854625   \n",
       "  1.59293    \n",
       " -0.477101   \n",
       " -2.61065    \n",
       "  0.934831   \n",
       "  0.995949   \n",
       "  ⋮          \n",
       "  1.11588    \n",
       "  0.508662   \n",
       " -2.19717    \n",
       " -0.716134   \n",
       " -0.000648306\n",
       "  0.982509   \n",
       "  0.294326   \n",
       "  0.148515   \n",
       "  0.578272   \n",
       "  0.132197   \n",
       " -1.17278    \n",
       " -2.29204    "
      ]
     },
     "execution_count": 10,
     "metadata": {},
     "output_type": "execute_result"
    }
   ],
   "source": [
    "Ahuge \\ bhuge"
   ]
  },
  {
   "cell_type": "code",
   "execution_count": 11,
   "metadata": {},
   "outputs": [
    {
     "name": "stdout",
     "output_type": "stream",
     "text": [
      "  0.208315 seconds (165 allocations: 7.682 MB)\n",
      "  0.166558 seconds (15 allocations: 7.641 MB)\n",
      "  0.312474 seconds (14.68 k allocations: 16.352 MB, 2.70% gc time)\n",
      "  0.281466 seconds (25 allocations: 15.763 MB, 1.32% gc time)\n"
     ]
    },
    {
     "data": {
      "text/plain": [
       "1000-element Array{Float64,1}:\n",
       " -0.37032    \n",
       "  0.413253   \n",
       " -2.79021    \n",
       "  3.15487    \n",
       "  3.20959    \n",
       "  1.97085    \n",
       " -0.320585   \n",
       "  0.854625   \n",
       "  1.59293    \n",
       " -0.477101   \n",
       " -2.61065    \n",
       "  0.934831   \n",
       "  0.995949   \n",
       "  ⋮          \n",
       "  1.11588    \n",
       "  0.508662   \n",
       " -2.19717    \n",
       " -0.716134   \n",
       " -0.000648306\n",
       "  0.982509   \n",
       "  0.294326   \n",
       "  0.148515   \n",
       "  0.578272   \n",
       "  0.132197   \n",
       " -1.17278    \n",
       " -2.29204    "
      ]
     },
     "execution_count": 11,
     "metadata": {},
     "output_type": "execute_result"
    }
   ],
   "source": [
    "@time Ahuge \\ bhuge;\n",
    "@time Ahuge \\ bhuge;\n",
    "@time inv(Ahuge) * bhuge\n",
    "@time inv(Ahuge) * bhuge"
   ]
  },
  {
   "cell_type": "code",
   "execution_count": 12,
   "metadata": {},
   "outputs": [
    {
     "name": "stderr",
     "output_type": "stream",
     "text": [
      "\u001b[1m\u001b[31mWARNING: [a,b] concatenation is deprecated; use [a;b] instead\u001b[0m\n",
      " in depwarn at ./deprecated.jl:73\n",
      "while loading In[12], in expression starting on line 1\n"
     ]
    },
    {
     "ename": "LoadError",
     "evalue": "DimensionMismatch(\"mismatch in dimension 2 (expected 3 got 1)\")",
     "output_type": "error",
     "traceback": [
      "DimensionMismatch(\"mismatch in dimension 2 (expected 3 got 1)\")",
      "",
      " in cat_t at ./abstractarray.jl:850",
      " in vcat at ./abstractarray.jl:887",
      " in vect at ./abstractarray.jl:33"
     ]
    }
   ],
   "source": [
    "L, U = lu([A, b], Val{false})"
   ]
  },
  {
   "cell_type": "code",
   "execution_count": 13,
   "metadata": {},
   "outputs": [
    {
     "data": {
      "text/plain": [
       "(\n",
       "3x3 Array{Float64,2}:\n",
       " 1.0   0.0  0.0\n",
       " 1.0   1.0  0.0\n",
       " 3.0  -1.0  1.0,\n",
       "\n",
       "3x4 Array{Float64,2}:\n",
       " 1.0   3.0   1.0   9.0\n",
       " 0.0  -2.0  -2.0  -8.0\n",
       " 0.0   0.0   1.0   0.0,\n",
       "\n",
       "Int32[1,2,3])"
      ]
     },
     "execution_count": 13,
     "metadata": {},
     "output_type": "execute_result"
    }
   ],
   "source": [
    "L, U = lu([A b], Val{false})"
   ]
  },
  {
   "cell_type": "code",
   "execution_count": 14,
   "metadata": {},
   "outputs": [
    {
     "data": {
      "text/plain": [
       "3-element Array{Float64,1}:\n",
       " 0.54714  \n",
       " 0.0882093\n",
       " 0.644445 "
      ]
     },
     "execution_count": 14,
     "metadata": {},
     "output_type": "execute_result"
    }
   ],
   "source": [
    "w = rand(3)"
   ]
  },
  {
   "cell_type": "code",
   "execution_count": 15,
   "metadata": {},
   "outputs": [
    {
     "data": {
      "text/plain": [
       "3-element Array{Float64,1}:\n",
       " 0.0925312\n",
       " 0.542343 \n",
       " 0.203387 "
      ]
     },
     "execution_count": 15,
     "metadata": {},
     "output_type": "execute_result"
    }
   ],
   "source": [
    "n = 3\n",
    "x1 = rand(3)"
   ]
  },
  {
   "cell_type": "code",
   "execution_count": 16,
   "metadata": {},
   "outputs": [
    {
     "name": "stderr",
     "output_type": "stream",
     "text": [
      "\n",
      "WARNING: deprecated syntax \"w .\" at In[16]:1.\n",
      "Use \"w.\" instead.\n"
     ]
    },
    {
     "ename": "LoadError",
     "evalue": "type Array has no field x1",
     "output_type": "error",
     "traceback": [
      "type Array has no field x1",
      ""
     ]
    }
   ],
   "source": [
    "y1 = w . x1"
   ]
  },
  {
   "cell_type": "code",
   "execution_count": 17,
   "metadata": {},
   "outputs": [
    {
     "data": {
      "text/plain": [
       "0.2295389725895851"
      ]
     },
     "execution_count": 17,
     "metadata": {},
     "output_type": "execute_result"
    }
   ],
   "source": [
    "y1 = w⋅x1"
   ]
  },
  {
   "cell_type": "code",
   "execution_count": 18,
   "metadata": {},
   "outputs": [
    {
     "name": "stderr",
     "output_type": "stream",
     "text": [
      "\u001b[1m\u001b[31mWARNING: [a,b,...] concatenation is deprecated; use [a;b;...] instead\u001b[0m\n",
      " in depwarn at ./deprecated.jl:73\n",
      "while loading In[18], in expression starting on line 4\n"
     ]
    },
    {
     "data": {
      "text/plain": [
       "3-element Array{Float64,1}:\n",
       " 0.229539\n",
       " 0.463381\n",
       " 0.766079"
      ]
     },
     "execution_count": 18,
     "metadata": {},
     "output_type": "execute_result"
    }
   ],
   "source": [
    "x2 = rand(3);y2=w⋅x2\n",
    "x3 = rand(3);y3=w⋅x3\n",
    "\n",
    "X = [x1, x2, x2]\n",
    "y = [y1; y2; y3]"
   ]
  },
  {
   "cell_type": "code",
   "execution_count": 19,
   "metadata": {},
   "outputs": [
    {
     "data": {
      "text/plain": [
       "3x3 Array{Float64,2}:\n",
       " 0.0925312  0.561321  0.699248\n",
       " 0.542343   0.981225  0.101541\n",
       " 0.203387   0.108167  0.581176"
      ]
     },
     "execution_count": 19,
     "metadata": {},
     "output_type": "execute_result"
    }
   ],
   "source": [
    "X = [x1 x2 x3]"
   ]
  },
  {
   "cell_type": "code",
   "execution_count": 20,
   "metadata": {},
   "outputs": [
    {
     "data": {
      "text/plain": [
       "3-element Array{Float64,1}:\n",
       "  0.321229 \n",
       " -0.0146532\n",
       " -0.270721 "
      ]
     },
     "execution_count": 20,
     "metadata": {},
     "output_type": "execute_result"
    }
   ],
   "source": [
    "X*w-y"
   ]
  },
  {
   "cell_type": "code",
   "execution_count": 21,
   "metadata": {},
   "outputs": [
    {
     "data": {
      "text/plain": [
       "3-element Array{Float64,1}:\n",
       " 0.0925312\n",
       " 0.542343 \n",
       " 0.203387 "
      ]
     },
     "execution_count": 21,
     "metadata": {},
     "output_type": "execute_result"
    }
   ],
   "source": [
    "x1"
   ]
  },
  {
   "cell_type": "code",
   "execution_count": 22,
   "metadata": {},
   "outputs": [
    {
     "data": {
      "text/plain": [
       "3-element Array{Int64,1}:\n",
       " 2\n",
       " 5\n",
       " 6"
      ]
     },
     "execution_count": 22,
     "metadata": {},
     "output_type": "execute_result"
    }
   ],
   "source": [
    "a = [2, 5, 6]"
   ]
  },
  {
   "cell_type": "code",
   "execution_count": 23,
   "metadata": {},
   "outputs": [
    {
     "data": {
      "text/plain": [
       "1x3 Array{Int64,2}:\n",
       " 2  5  6"
      ]
     },
     "execution_count": 23,
     "metadata": {},
     "output_type": "execute_result"
    }
   ],
   "source": [
    "a = [2 5 6]"
   ]
  },
  {
   "cell_type": "code",
   "execution_count": 24,
   "metadata": {},
   "outputs": [
    {
     "data": {
      "text/plain": [
       "9-element Array{Float64,1}:\n",
       " 0.0925312\n",
       " 0.542343 \n",
       " 0.203387 \n",
       " 0.561321 \n",
       " 0.981225 \n",
       " 0.108167 \n",
       " 0.699248 \n",
       " 0.101541 \n",
       " 0.581176 "
      ]
     },
     "execution_count": 24,
     "metadata": {},
     "output_type": "execute_result"
    }
   ],
   "source": [
    "X = [x1;x2;x3]"
   ]
  },
  {
   "cell_type": "code",
   "execution_count": 25,
   "metadata": {},
   "outputs": [
    {
     "data": {
      "text/plain": [
       "3x3 Array{Float64,2}:\n",
       " 0.0925312  0.542343  0.203387\n",
       " 0.561321   0.981225  0.108167\n",
       " 0.699248   0.101541  0.581176"
      ]
     },
     "execution_count": 25,
     "metadata": {},
     "output_type": "execute_result"
    }
   ],
   "source": [
    "X = [x1 x2 x3]'"
   ]
  },
  {
   "cell_type": "code",
   "execution_count": 26,
   "metadata": {},
   "outputs": [
    {
     "data": {
      "text/plain": [
       "3-element Array{Float64,1}:\n",
       " 0.0        \n",
       " 5.55112e-17\n",
       " 0.0        "
      ]
     },
     "execution_count": 26,
     "metadata": {},
     "output_type": "execute_result"
    }
   ],
   "source": [
    "X*w-y"
   ]
  },
  {
   "cell_type": "code",
   "execution_count": 27,
   "metadata": {},
   "outputs": [
    {
     "data": {
      "text/plain": [
       "3-element Array{Float64,1}:\n",
       " 0.54714  \n",
       " 0.0882093\n",
       " 0.644445 "
      ]
     },
     "execution_count": 27,
     "metadata": {},
     "output_type": "execute_result"
    }
   ],
   "source": [
    "X\\y"
   ]
  },
  {
   "cell_type": "code",
   "execution_count": 28,
   "metadata": {},
   "outputs": [
    {
     "ename": "LoadError",
     "evalue": "ArgumentError: Flux not found in path",
     "output_type": "error",
     "traceback": [
      "ArgumentError: Flux not found in path",
      ""
     ]
    }
   ],
   "source": [
    "using Flux"
   ]
  },
  {
   "cell_type": "code",
   "execution_count": 32,
   "metadata": {},
   "outputs": [
    {
     "ename": "LoadError",
     "evalue": "Flux can't be installed because it has no versions that support 0.4.5 of julia. You may need to update METADATA by running `Pkg.update()`\n in error at ./error.jl:22",
     "output_type": "error",
     "traceback": [
      "Flux can't be installed because it has no versions that support 0.4.5 of julia. You may need to update METADATA by running `Pkg.update()`\n in error at ./error.jl:22",
      "",
      " [inlined code] from ./task.jl:422",
      " in add at ./pkg/entry.jl:64"
     ]
    }
   ],
   "source": [
    "Pkg.add(\"Flux\")"
   ]
  },
  {
   "cell_type": "code",
   "execution_count": 31,
   "metadata": {},
   "outputs": [
    {
     "name": "stderr",
     "output_type": "stream",
     "text": [
      "\u001b[1m\u001b[34mINFO: Updating METADATA...\n",
      "\u001b[0m\u001b[1m\u001b[34mINFO: Computing changes...\n",
      "\u001b[0m\u001b[1m\u001b[34mINFO: No packages to install, update or remove\n",
      "\u001b[0m"
     ]
    }
   ],
   "source": [
    "Pkg.update()"
   ]
  },
  {
   "cell_type": "code",
   "execution_count": 33,
   "metadata": {},
   "outputs": [
    {
     "name": "stdout",
     "output_type": "stream",
     "text": [
      "A .* B = [2 0 -10\n",
      " 3 -20 4\n",
      " 12 0 0]\n",
      "A * B = [-14 5 10\n",
      " -5 -20 10\n",
      " -6 10 6]\n"
     ]
    },
    {
     "data": {
      "text/plain": [
       "3x3 Array{Int64,2}:\n",
       " -14    5  10\n",
       "  -5  -20  10\n",
       "  -6   10   6"
      ]
     },
     "execution_count": 33,
     "metadata": {},
     "output_type": "execute_result"
    }
   ],
   "source": [
    "A = [2 -1 5\n",
    "     3 4 4\n",
    "     -4 -2 0]\n",
    "B = [1 0 -2\n",
    "     1 -5 1\n",
    "    -3 0 3]\n",
    "@show(A.*B)\n",
    "@show(A*B)"
   ]
  },
  {
   "cell_type": "code",
   "execution_count": 45,
   "metadata": {},
   "outputs": [
    {
     "data": {
      "text/plain": [
       "my_own_matmul (generic function with 1 method)"
      ]
     },
     "execution_count": 45,
     "metadata": {},
     "output_type": "execute_result"
    }
   ],
   "source": [
    "function my_own_matmul(A, B)\n",
    "    m, n1 = size(A)\n",
    "    n2, p = size(B)\n",
    "    if n1 != n2 error(\"No good, n1=$(n1) != n2=$(n2)\") end\n",
    "    \n",
    "    C = [vec(A[i,:])⋅B[:,j] for i=1:m,j=1:p]\n",
    "end"
   ]
  },
  {
   "cell_type": "code",
   "execution_count": 46,
   "metadata": {},
   "outputs": [
    {
     "data": {
      "text/plain": [
       "3x3 Array{Int64,2}:\n",
       " -14    5  10\n",
       "  -5  -20  10\n",
       "  -6   10   6"
      ]
     },
     "execution_count": 46,
     "metadata": {},
     "output_type": "execute_result"
    }
   ],
   "source": [
    "my_own_matmul(A, B)"
   ]
  },
  {
   "cell_type": "code",
   "execution_count": 36,
   "metadata": {},
   "outputs": [
    {
     "data": {
      "text/plain": [
       "3x3 Array{Int64,2}:\n",
       "  2  -1  5\n",
       "  3   4  4\n",
       " -4  -2  0"
      ]
     },
     "execution_count": 36,
     "metadata": {},
     "output_type": "execute_result"
    }
   ],
   "source": [
    "A"
   ]
  },
  {
   "cell_type": "code",
   "execution_count": 37,
   "metadata": {},
   "outputs": [
    {
     "data": {
      "text/plain": [
       "3x3 Array{Int64,2}:\n",
       "  1   0  -2\n",
       "  1  -5   1\n",
       " -3   0   3"
      ]
     },
     "execution_count": 37,
     "metadata": {},
     "output_type": "execute_result"
    }
   ],
   "source": [
    "B"
   ]
  },
  {
   "cell_type": "code",
   "execution_count": 39,
   "metadata": {},
   "outputs": [
    {
     "ename": "LoadError",
     "evalue": "MethodError: `dot` has no method matching dot(::Array{Int64,2}, ::Array{Int64,1})\n\nYou might have used a 2d row vector where a 1d column vector was required.\nNote the difference between 1d column vector [1,2,3] and 2d row vector [1 2 3].\nYou can convert to a column vector with the vec() function.\u001b[0m\nClosest candidates are:\n  dot(\u001b[1m\u001b[31m::AbstractArray{T,1}\u001b[0m, ::AbstractArray{T,1})\u001b[0m",
     "output_type": "error",
     "traceback": [
      "MethodError: `dot` has no method matching dot(::Array{Int64,2}, ::Array{Int64,1})\n\nYou might have used a 2d row vector where a 1d column vector was required.\nNote the difference between 1d column vector [1,2,3] and 2d row vector [1 2 3].\nYou can convert to a column vector with the vec() function.\u001b[0m\nClosest candidates are:\n  dot(\u001b[1m\u001b[31m::AbstractArray{T,1}\u001b[0m, ::AbstractArray{T,1})\u001b[0m",
      ""
     ]
    }
   ],
   "source": [
    "A[1,:] ⋅ B[:, 1]"
   ]
  },
  {
   "cell_type": "code",
   "execution_count": 40,
   "metadata": {},
   "outputs": [
    {
     "data": {
      "text/plain": [
       "1x3 Array{Int64,2}:\n",
       " 2  -1  5"
      ]
     },
     "execution_count": 40,
     "metadata": {},
     "output_type": "execute_result"
    }
   ],
   "source": [
    "A[1,:]"
   ]
  },
  {
   "cell_type": "code",
   "execution_count": 41,
   "metadata": {},
   "outputs": [
    {
     "data": {
      "text/plain": [
       "3-element Array{Int64,1}:\n",
       "  1\n",
       "  1\n",
       " -3"
      ]
     },
     "execution_count": 41,
     "metadata": {},
     "output_type": "execute_result"
    }
   ],
   "source": [
    "B[:, 1]"
   ]
  },
  {
   "cell_type": "code",
   "execution_count": 42,
   "metadata": {},
   "outputs": [
    {
     "data": {
      "text/plain": [
       "2x2 Array{Float64,2}:\n",
       " 0.872566  0.586548\n",
       " 0.545818  0.89696 "
      ]
     },
     "execution_count": 42,
     "metadata": {},
     "output_type": "execute_result"
    }
   ],
   "source": [
    "a = rand(2, 2)"
   ]
  },
  {
   "cell_type": "code",
   "execution_count": 43,
   "metadata": {},
   "outputs": [
    {
     "data": {
      "text/plain": [
       "0.8725663356079039"
      ]
     },
     "execution_count": 43,
     "metadata": {},
     "output_type": "execute_result"
    }
   ],
   "source": [
    "a[1, 1]"
   ]
  },
  {
   "cell_type": "code",
   "execution_count": 44,
   "metadata": {},
   "outputs": [
    {
     "data": {
      "text/plain": [
       "1x2 Array{Float64,2}:\n",
       " 0.872566  0.586548"
      ]
     },
     "execution_count": 44,
     "metadata": {},
     "output_type": "execute_result"
    }
   ],
   "source": [
    "a[1,:]"
   ]
  },
  {
   "cell_type": "code",
   "execution_count": 1,
   "metadata": {},
   "outputs": [],
   "source": [
    "using PyPlot"
   ]
  },
  {
   "cell_type": "code",
   "execution_count": 12,
   "metadata": {},
   "outputs": [
    {
     "data": {
      "image/png": "[encoded data removed]",
      "text/plain": [
       "PyPlot.Figure(PyObject <Figure size 640x480 with 1 Axes>)"
      ]
     },
     "metadata": {},
     "output_type": "display_data"
    },
    {
     "data": {
      "text/plain": [
       "PyObject <matplotlib.legend.Legend object at 0x7f9ebddabbe0>"
      ]
     },
     "execution_count": 12,
     "metadata": {},
     "output_type": "execute_result"
    }
   ],
   "source": [
    "x = linspace(1,10000,10000)\n",
    "fig, ax = subplots()\n",
    "ax[:plot](x, [n^0.999999*log2(n) for n in x], label=L\"$n^{0.99999}*log2(n)$\")\n",
    "#plot(x, [10000000 * n for n in x])\n",
    "ax[:plot](x, [1.000001^n for n in x], label=L\"$1.000001^n$\")\n",
    "#ax[:plot](x, [n^2 for n in x], label=L\"$n^2$\")\n",
    "ax[:legend]()"
   ]
  },
  {
   "cell_type": "code",
   "execution_count": null,
   "metadata": {},
   "outputs": [],
   "source": []
  }
 ],
 "metadata": {
  "kernelspec": {
   "display_name": "Julia 0.4.5",
   "language": "julia",
   "name": "julia-0.4"
  },
  "language_info": {
   "file_extension": ".jl",
   "mimetype": "application/julia",
   "name": "julia",
   "version": "0.4.5"
  }
 },
 "nbformat": 4,
 "nbformat_minor": 2
}
